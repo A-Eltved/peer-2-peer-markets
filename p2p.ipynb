{
 "cells": [
  {
   "cell_type": "code",
   "execution_count": 1,
   "metadata": {},
   "outputs": [],
   "source": [
    "# Options\n",
    "path = ''\n",
    "path = '/home/aelt/Dropbox/Apps/ShareLaTeX/peer-2-peer_markets/files/' # path to save files"
   ]
  },
  {
   "cell_type": "markdown",
   "metadata": {},
   "source": [
    "### Load packages"
   ]
  },
  {
   "cell_type": "code",
   "execution_count": 2,
   "metadata": {},
   "outputs": [],
   "source": [
    "import numpy as np\n",
    "import cvxpy as cvx\n",
    "from print_res_to_latex import *"
   ]
  },
  {
   "cell_type": "markdown",
   "metadata": {},
   "source": [
    "## Problem data (IEEE14)"
   ]
  },
  {
   "cell_type": "code",
   "execution_count": 3,
   "metadata": {},
   "outputs": [],
   "source": [
    "n = 14\n",
    "Pmin = np.array([-21.7,-94.2,-47.8,-7.6,-11.2,-29.5,-9.,-3.5,-6.1,-13.5,-14.9,0.,0.,0.])\n",
    "Pmax = np.array([0.,0.,0.,0.,0.,0.,0.,0.,0.,0.,0.,20.,50.,10.])\n",
    "Pren = np.array([0.,0.,0.,14.9,9.,10.,18.5,2.,7.,5.,5.,0.,0.,0.])\n",
    "a = np.array([4.,1.,2.,10.,8.,4.,9.,15.,18.,7.,6.,7.,2.,8.])\n",
    "b = np.array([130.,120.,135.,125.,140.,145.,150.,135.,140.,125.,120.,25.,10.,20.])\n",
    "A = np.diag(a)"
   ]
  },
  {
   "cell_type": "markdown",
   "metadata": {},
   "source": [
    "## Part 1: Centralized pool-based market"
   ]
  },
  {
   "cell_type": "code",
   "execution_count": 41,
   "metadata": {},
   "outputs": [
    {
     "name": "stdout",
     "output_type": "stream",
     "text": [
      "-3395.572644943103\n",
      "Schedule: \n",
      "[-14.99996698 -50.00015996 -32.49988308   7.29999999  -2.19999997\n",
      " -18.74982567   9.49999999  -1.49999994   0.90000001  -7.85700578\n",
      "  -8.33345189   6.42855887  30.00006739   6.25001133]\n",
      "Writing table...\n",
      "Done.\n",
      "Import:  75.76165567804031 \tExport:  -3.1369053391170306e-09\n",
      "Price:  69.99999987021603\n",
      "Writing pricing table...\n",
      "Done.\n",
      "Payments and revenues under uniform pricing scheme: \n",
      "[-1049.99768664 -3500.01119073 -2274.99181139   510.99999848\n",
      "  -153.99999764 -1312.48779439   664.99999773  -104.99999568\n",
      "    63.00000076  -549.99040331  -583.3416312    449.99911993\n",
      "  2100.00471355   437.5007923 ]\n"
     ]
    }
   ],
   "source": [
    "p = cvx.Variable(n)\n",
    "qimp = cvx.Variable(1)\n",
    "qexp = cvx.Variable(1)\n",
    "obj = 1/2 * cvx.quad_form(p, A) + b*p + 70*qimp - 40*qexp\n",
    "constraints = [\n",
    "            cvx.sum(p) + qimp - qexp == 0, \n",
    "            Pmin + Pren <= p, \n",
    "            p <= Pmax + Pren, \n",
    "            qimp >= 0, \n",
    "            qexp >= 0\n",
    "            ]\n",
    "prob = cvx.Problem(cvx.Minimize(obj), constraints)\n",
    "prob.solve(solver=cvx.MOSEK)\n",
    "print(prob.value)\n",
    "print(\"Schedule: \")\n",
    "print(p.value)\n",
    "write_schedule(p,path+'part1_schedule.txt','Schedule for pool-based market')\n",
    "print(\"Import: \", qimp.value[0], \"\\tExport: \", qexp.value[0])\n",
    "print(\"Price: \",constraints[0].dual_value[0])\n",
    "write_pricing(p,constraints[0].dual_value[0],path + 'part1_pricing.txt','Pricing for pool-based market')\n",
    "print(\"Payments and revenues under uniform pricing scheme: \")\n",
    "print(p.value * constraints[0].dual_value[0])\n",
    "#print(\"Payments and revenues under uniform pricing scheme (with added renewables): \")\n",
    "#print((p.value + np.matrix(Pren).T) * constraints[0].dual_value[0])"
   ]
  },
  {
   "cell_type": "markdown",
   "metadata": {},
   "source": [
    "#### No external agent:"
   ]
  },
  {
   "cell_type": "code",
   "execution_count": 42,
   "metadata": {},
   "outputs": [
    {
     "name": "stdout",
     "output_type": "stream",
     "text": [
      "-2462.983202141747\n",
      "Schedule: \n",
      "[ -8.84543272 -25.38161658 -20.19092832   7.29999997  -2.19999985\n",
      " -12.59553371   9.49999994  -1.49999969   0.90000005  -4.34027346\n",
      "  -4.23029489   9.94558108  42.31105156   9.32744662]\n",
      "Writing table...\n",
      "Done.\n",
      "Price:  94.6189722498422\n",
      "Payments and revenues under uniform pricing scheme: \n",
      "[ -836.94575264 -2401.58247458 -1910.44488629   690.7184944\n",
      "  -208.16172486 -1191.77645461   898.88023073  -141.92842885\n",
      "    85.15707943  -410.67221368  -400.26615507   941.04065977\n",
      "  4003.42821364   882.55341261]\n",
      "Writing pricing table...\n",
      "Done.\n"
     ]
    }
   ],
   "source": [
    "p = cvx.Variable(n)\n",
    "obj = 1/2 * cvx.quad_form(p, A) + b*p \n",
    "constraints = [\n",
    "            cvx.sum(p) == 0, \n",
    "            Pmin + Pren<= p, \n",
    "            p <= Pmax + Pren\n",
    "            ]\n",
    "prob = cvx.Problem(cvx.Minimize(obj), constraints)\n",
    "prob.solve(cvx.MOSEK)\n",
    "print(prob.value)\n",
    "print(\"Schedule: \")\n",
    "print(p.value) \n",
    "write_schedule(p,path + 'part1_schedule_noext.txt','Schedule for pool-based market without external agent')\n",
    "print(\"Price: \",constraints[0].dual_value)\n",
    "print(\"Payments and revenues under uniform pricing scheme: \")\n",
    "print(p.value * constraints[0].dual_value)\n",
    "write_pricing(p,constraints[0].dual_value,path + 'part1_pricing_noext.txt','Pricing for pool-based market without external agent')\n",
    "#print(\"Payments and revenues under uniform pricing scheme (with added renewables): \")\n",
    "#print((p.value + np.matrix(Pren).T) * constraints[0].dual_value)"
   ]
  },
  {
   "cell_type": "markdown",
   "metadata": {},
   "source": [
    "## Part 2: Community-based market"
   ]
  },
  {
   "cell_type": "code",
   "execution_count": 47,
   "metadata": {},
   "outputs": [
    {
     "name": "stdout",
     "output_type": "stream",
     "text": [
      "-3395.572644943103\n",
      "Schedule: \n",
      "[-14.99996698 -50.00015996 -32.49988308   7.29999999  -2.19999997\n",
      " -18.74982567   9.49999999  -1.49999994   0.90000001  -7.85700578\n",
      "  -8.33345189   6.42855887  30.00006739   6.25001133]\n",
      "Writing table...\n",
      "Done.\n",
      "Community trading: \n",
      "[-60.7616887   50.00015996  32.49988308  -7.29999999   2.19999997\n",
      "  18.74982567  -9.49999999   1.49999994  -0.90000001   7.85700578\n",
      "   8.33345189  -6.42855887 -30.00006739  -6.25001133]\n",
      "Agent import: \n",
      "[75.76165568 -0.         -0.         -0.         -0.         -0.\n",
      " -0.         -0.         -0.         -0.         -0.         -0.\n",
      " -0.         -0.        ]\n",
      "Agent export: \n",
      "[-3.13690534e-09  0.00000000e+00  0.00000000e+00  0.00000000e+00\n",
      "  0.00000000e+00  0.00000000e+00  0.00000000e+00  0.00000000e+00\n",
      "  0.00000000e+00  0.00000000e+00  0.00000000e+00  0.00000000e+00\n",
      "  0.00000000e+00  0.00000000e+00]\n",
      "Import:  [75.76165568] \tExport:  [-3.13690534e-09]\n",
      "Price:  69.99999987021603\n",
      "Payments and revenues under uniform pricing scheme: \n",
      "[-1049.99768664 -3500.01119073 -2274.99181139   510.99999848\n",
      "  -153.99999764 -1312.48779439   664.99999773  -104.99999568\n",
      "    63.00000076  -549.99040331  -583.3416312    449.99911993\n",
      "  2100.00471355   437.5007923 ]\n",
      "Writing pricing table...\n",
      "Done.\n"
     ]
    }
   ],
   "source": [
    "p = cvx.Variable(n)\n",
    "q = cvx.Variable(n)\n",
    "alpha = cvx.Variable(n)\n",
    "beta = cvx.Variable(n)\n",
    "qimp = cvx.Variable(1)\n",
    "qexp = cvx.Variable(1)\n",
    "obj = 1/2*cvx.quad_form(p, A) + b*p + 70*qimp - 40*qexp\n",
    "constraints = [\n",
    "            p + q + alpha - beta == 0, \n",
    "            cvx.sum(q) == 0, \n",
    "            cvx.sum(alpha) == qimp, \n",
    "            cvx.sum(beta) == qexp, \n",
    "            Pmin + Pren <= p, \n",
    "            p <= Pmax + Pren, \n",
    "            qimp >= 0, \n",
    "            qexp >= 0, \n",
    "            alpha >= 0, \n",
    "            beta >= 0\n",
    "            ]\n",
    "prob = cvx.Problem(cvx.Minimize(obj), constraints)\n",
    "prob.solve(cvx.MOSEK)\n",
    "print(prob.value)\n",
    "print(\"Schedule: \")\n",
    "print(p.value)\n",
    "write_schedule(p,path + 'part2_schedule.txt','Schedule for community-based market')\n",
    "print(\"Community trading: \")\n",
    "print(q.value)\n",
    "print(\"Agent import: \")\n",
    "print(alpha.value)\n",
    "print(\"Agent export: \")\n",
    "print(beta.value)\n",
    "print(\"Import: \", qimp.value, \"\\tExport: \", qexp.value)\n",
    "price = abs(constraints[1].dual_value)\n",
    "print(\"Price: \",price)\n",
    "print(\"Payments and revenues under uniform pricing scheme: \")\n",
    "print(p.value * price)\n",
    "write_pricing(p,price,path + 'part2_pricing.txt','Pricing for community-based market')\n",
    "#print(\"Payments and revenues under uniform pricing scheme (with added renewables): \")\n",
    "#print((p.value + np.matrix(Pren).T) * constraints[0].dual_value)"
   ]
  },
  {
   "cell_type": "markdown",
   "metadata": {},
   "source": [
    "## Changing the renewable generation of agent 7"
   ]
  },
  {
   "cell_type": "code",
   "execution_count": 48,
   "metadata": {},
   "outputs": [],
   "source": [
    "Pren[6] = 0"
   ]
  },
  {
   "cell_type": "markdown",
   "metadata": {},
   "source": [
    "### Pool-based (no external)"
   ]
  },
  {
   "cell_type": "code",
   "execution_count": 51,
   "metadata": {},
   "outputs": [
    {
     "name": "stdout",
     "output_type": "stream",
     "text": [
      "-3527.196100469998\n",
      "Schedule: \n",
      "[ -7.61793949 -20.4717585  -17.73587989   7.3         -2.19999998\n",
      " -11.36794101  -5.60797393  -1.49999996   0.90000001  -3.63882333\n",
      "  -3.41196017  10.64689224  44.76413608   9.94124795]\n",
      "Writing table...\n",
      "Done.\n",
      "Import:  [0.] \tExport:  [0.]\n",
      "Price:  99.5283142281432\n",
      "Payments and revenues under uniform pricing scheme: \n",
      "[ -758.20067541 -2037.51961264 -1765.22222713   726.55669355\n",
      "  -218.96228926 -1131.43200448  -558.15219158  -149.29246729\n",
      "    89.57548339  -362.16595188  -339.5866442   1059.66723601\n",
      "  4455.29900151   989.43564941]\n",
      "Writing pricing table...\n",
      "Done.\n"
     ]
    }
   ],
   "source": [
    "p = cvx.Variable(n)\n",
    "qimp = cvx.Variable(1)\n",
    "qexp = cvx.Variable(1)\n",
    "obj = 1/2*cvx.quad_form(p, A) + b*p\n",
    "constraints = [\n",
    "            cvx.sum(p) == 0, \n",
    "            Pmin + Pren <= p, \n",
    "            p <= Pmax + Pren, \n",
    "            qimp >= 0, \n",
    "            qexp >= 0\n",
    "            ]\n",
    "prob = cvx.Problem(cvx.Minimize(obj), constraints)\n",
    "prob.solve(cvx.MOSEK)\n",
    "print(prob.value)\n",
    "print(\"Schedule: \")\n",
    "print(p.value)\n",
    "write_schedule(p,path + 'part1_schedule_a7changed.txt','Schedule for pool-based market without agent 7\\'s production')\n",
    "print(\"Import: \", qimp.value, \"\\tExport: \", qexp.value)\n",
    "print(\"Price: \",constraints[0].dual_value)\n",
    "print(\"Payments and revenues under uniform pricing scheme: \")\n",
    "print(p.value * constraints[0].dual_value)\n",
    "write_pricing(p,constraints[0].dual_value,path + 'part1_pricing_a7changed.txt','Pricing for pool-based market without agent 7\\'s production')"
   ]
  },
  {
   "cell_type": "markdown",
   "metadata": {},
   "source": [
    "### Pool-based"
   ]
  },
  {
   "cell_type": "code",
   "execution_count": 54,
   "metadata": {},
   "outputs": [
    {
     "name": "stdout",
     "output_type": "stream",
     "text": [
      "-4917.253222421599\n",
      "Schedule: \n",
      "[-14.99999992 -50.00000014 -32.49999997   7.29999998  -2.19999994\n",
      " -18.74999811  -8.88885207  -1.49999992   0.90000002  -7.8571416\n",
      "  -8.33333256   6.42857155  29.99999992   6.24999987]\n",
      "Writing table...\n",
      "Done.\n",
      "Import:  [94.15075289] \tExport:  [1.80407967e-09]\n",
      "Price:  69.99999974255782\n",
      "Payments and revenues under uniform pricing scheme: \n",
      "[-1049.9999907  -3499.99999726 -2274.99998933   510.99999689\n",
      "  -153.99999554 -1312.49986268  -622.21964238  -104.99999367\n",
      "    63.00000143  -549.9999101   -583.33327734   450.0000071\n",
      "  2099.99998669   437.49998951]\n",
      "Writing pricing table...\n",
      "Done.\n"
     ]
    }
   ],
   "source": [
    "p = cvx.Variable(n)\n",
    "qimp = cvx.Variable(1)\n",
    "qexp = cvx.Variable(1)\n",
    "obj = 1/2*cvx.quad_form(p, A) + b*p + 70*qimp - 40*qexp\n",
    "constraints = [\n",
    "            cvx.sum(p) + qimp - qexp == 0, \n",
    "            Pmin + Pren <= p, \n",
    "            p <= Pmax + Pren, \n",
    "            qimp >= 0, \n",
    "            qexp >= 0\n",
    "            ]\n",
    "prob = cvx.Problem(cvx.Minimize(obj), constraints)\n",
    "prob.solve(cvx.MOSEK)\n",
    "print(prob.value)\n",
    "print(\"Schedule: \")\n",
    "print(p.value)\n",
    "write_schedule(p,path + 'part1_schedule_a7changed.txt','Schedule for pool-based market without agent 7\\'s production')\n",
    "print(\"Import: \", qimp.value, \"\\tExport: \", qexp.value)\n",
    "price = abs(constraints[0].dual_value[0])\n",
    "print(\"Price: \",price)\n",
    "print(\"Payments and revenues under uniform pricing scheme: \")\n",
    "print(p.value * price)\n",
    "write_pricing(p,price,path + 'part1_pricing_a7changed.txt','Pricing for pool-based market without agent 7\\'s production')"
   ]
  },
  {
   "cell_type": "markdown",
   "metadata": {},
   "source": [
    "### Community-based:"
   ]
  },
  {
   "cell_type": "code",
   "execution_count": 57,
   "metadata": {},
   "outputs": [
    {
     "name": "stdout",
     "output_type": "stream",
     "text": [
      "-4917.253226093274\n",
      "Schedule: \n",
      "[-14.99999993 -50.00000016 -32.49999998   7.29999998  -2.19999995\n",
      " -18.74999811  -8.88885208  -1.49999992   0.90000002  -7.85714161\n",
      "  -8.33333257   6.42857156  29.99999993   6.24999988]\n",
      "Writing table...\n",
      "Done.\n",
      "Community trading: \n",
      "[  14.99999993   50.00000016   32.49999998   -7.29999998    2.19999995\n",
      "   18.74999811    8.88885208    1.49999992   -0.90000002    7.85714161\n",
      "    8.33333257   -6.42857156 -124.15075284   -6.24999988]\n",
      "Agent import: \n",
      "[ 0.          0.          0.          0.          0.          0.\n",
      "  0.          0.          0.          0.          0.          0.\n",
      " 94.15075291  0.        ]\n",
      "Agent export: \n",
      "[0.00000000e+00 1.80562469e-09 0.00000000e+00 0.00000000e+00\n",
      " 0.00000000e+00 0.00000000e+00 0.00000000e+00 0.00000000e+00\n",
      " 0.00000000e+00 0.00000000e+00 0.00000000e+00 0.00000000e+00\n",
      " 0.00000000e+00 0.00000000e+00]\n",
      "Import:  [94.15075291] \tExport:  [1.80562469e-09]\n",
      "Price:  69.99999974265384\n",
      "Payments and revenues under uniform pricing scheme: \n",
      "[-1049.99999106 -3499.99999842 -2274.99999009   510.99999705\n",
      "  -153.99999559 -1312.4998632   -622.21964333  -104.99999371\n",
      "    63.00000145  -549.99991034  -583.33327756   450.00000725\n",
      "  2099.9999874    437.49998966]\n",
      "Writing pricing table...\n",
      "Done.\n"
     ]
    }
   ],
   "source": [
    "p = cvx.Variable(n)\n",
    "q = cvx.Variable(n)\n",
    "alpha = cvx.Variable(n)\n",
    "beta = cvx.Variable(n)\n",
    "qimp = cvx.Variable(1)\n",
    "qexp = cvx.Variable(1)\n",
    "obj = 1/2*cvx.quad_form(p, A) + b*p + 70*qimp - 40*qexp\n",
    "constraints = [\n",
    "            p + q + alpha - beta == 0, \n",
    "            cvx.sum(q) == 0, \n",
    "            cvx.sum(alpha) == qimp, \n",
    "            cvx.sum(beta) == qexp, \n",
    "            Pmin + Pren <= p, \n",
    "            p <= Pmax + Pren, \n",
    "            qimp >= 0, \n",
    "            qexp >= 0, \n",
    "            alpha >= 0, \n",
    "            beta >= 0\n",
    "            ]\n",
    "prob = cvx.Problem(cvx.Minimize(obj), constraints)\n",
    "prob.solve(cvx.MOSEK)\n",
    "print(prob.value)\n",
    "print(\"Schedule: \")\n",
    "print(p.value)\n",
    "write_schedule(p,path + 'part2_schedule_a7changed.txt','Schedule for community-based market without agent 7\\'s production')\n",
    "print(\"Community trading: \")\n",
    "print(q.value)\n",
    "print(\"Agent import: \")\n",
    "print(alpha.value)\n",
    "print(\"Agent export: \")\n",
    "print(beta.value)\n",
    "print(\"Import: \", qimp.value, \"\\tExport: \", qexp.value)\n",
    "price = abs(constraints[1].dual_value)\n",
    "print(\"Price: \",price)\n",
    "print(\"Payments and revenues under uniform pricing scheme: \")\n",
    "print(p.value * price)\n",
    "write_pricing(p,price,path + 'part2_pricing_a7changed.txt','Pricing for community-based market without agent 7\\'s production')\n",
    "#print(\"Payments and revenues under uniform pricing scheme (with added renewables): \")\n",
    "#print((p.value + np.matrix(Pren).T) * constraints[0].dual_value)"
   ]
  },
  {
   "cell_type": "markdown",
   "metadata": {},
   "source": [
    "# ADMM"
   ]
  },
  {
   "cell_type": "code",
   "execution_count": null,
   "metadata": {},
   "outputs": [],
   "source": [
    "def admm_community_based(p,q,alpha,beta,Pmax,Pmin,rhoexp = 40, tau = 30):\n",
    "    '''\n",
    "    Solves community-based market in a distributed manner \n",
    "    using alternating direction method of multipliers (ADMM).\n",
    "    \n",
    "    Input: \n",
    "        Feasible initial guesses for variables\n",
    "        p:     power production (consumption of negative)\n",
    "        q:     energy import from community\n",
    "        alpha: energy imported\n",
    "        beta:  energy exported\n",
    "        \n",
    "        Parameters: \n",
    "        Pmax:   maximum production\n",
    "        Pmin:   minimum production\n",
    "        rhoexp: price for energy exported to outside\n",
    "        tau:    added price (to export price) for energy import \n",
    "        \n",
    "    Output: \n",
    "        The variables\n",
    "    '''\n",
    "    \n",
    "    "
   ]
  },
  {
   "cell_type": "code",
   "execution_count": null,
   "metadata": {},
   "outputs": [],
   "source": []
  },
  {
   "cell_type": "code",
   "execution_count": null,
   "metadata": {},
   "outputs": [],
   "source": []
  },
  {
   "cell_type": "code",
   "execution_count": null,
   "metadata": {},
   "outputs": [],
   "source": []
  }
 ],
 "metadata": {
  "kernelspec": {
   "display_name": "Python 3",
   "language": "python",
   "name": "python3"
  },
  "language_info": {
   "codemirror_mode": {
    "name": "ipython",
    "version": 3
   },
   "file_extension": ".py",
   "mimetype": "text/x-python",
   "name": "python",
   "nbconvert_exporter": "python",
   "pygments_lexer": "ipython3",
   "version": "3.6.5"
  }
 },
 "nbformat": 4,
 "nbformat_minor": 2
}
