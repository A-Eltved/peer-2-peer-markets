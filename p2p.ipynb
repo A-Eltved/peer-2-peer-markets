{
 "cells": [
  {
   "cell_type": "code",
   "execution_count": 10,
   "metadata": {},
   "outputs": [],
   "source": [
    "import numpy as np"
   ]
  },
  {
   "cell_type": "markdown",
   "metadata": {},
   "source": [
    "## Problem data (IEEE14)"
   ]
  },
  {
   "cell_type": "code",
   "execution_count": 27,
   "metadata": {},
   "outputs": [],
   "source": [
    "n = 14\n",
    "Pmin = np.array([-21.7,-94.2,-47.8,-7.6,-11.2,-29.5,-9.,-3.5,-6.1,-13.5,-14.9,0.,0.,0.])\n",
    "Pmax = np.array([0.,0.,0.,0.,0.,0.,0.,0.,0.,0.,0.,20.,50.,10.])\n",
    "Pren = np.array([0.,0.,0.,14.9,9.,10.,18.5,2.,7.,5.,5.,0.,0.,0.])\n",
    "a = np.array([4.,1.,2.,10.,8.,4.,9.,15.,18.,7.,6.,7.,2.,8.])\n",
    "b = np.array([130.,120.,135.,125.,140.,145.,150.,135.,140.,125.,120.,25.,10.,20.])\n",
    "Q = np.diag(a)"
   ]
  },
  {
   "cell_type": "code",
   "execution_count": null,
   "metadata": {},
   "outputs": [],
   "source": []
  },
  {
   "cell_type": "code",
   "execution_count": 36,
   "metadata": {},
   "outputs": [
    {
     "name": "stdout",
     "output_type": "stream",
     "text": [
      "-8052.111736270549\n",
      "Schedule: \n",
      "[[ -8.26637071]\n",
      " [-28.0654519 ]\n",
      " [-17.78272935]\n",
      " [ -3.05656276]\n",
      " [ -4.7581915 ]\n",
      " [-10.14136791]\n",
      " [ -4.78504585]\n",
      " [ -2.37096286]\n",
      " [ -2.11476871]\n",
      " [ -4.36651219]\n",
      " [ -4.6775958 ]\n",
      " [  2.77640618]\n",
      " [ 13.46729717]\n",
      " [  2.74185618]]\n",
      "Price:  -63.86829931198621\n",
      "Payments and revenues under uniform pricing scheme: \n",
      "[[  527.9590386 ]\n",
      " [ 1792.49268229]\n",
      " [ 1135.75268055]\n",
      " [  195.21746493]\n",
      " [  303.89759898]\n",
      " [  647.71192141]\n",
      " [  305.61274051]\n",
      " [  151.42936558]\n",
      " [  135.06668105]\n",
      " [  278.88170777]\n",
      " [  298.75008835]\n",
      " [ -177.32434112]\n",
      " [ -860.13336684]\n",
      " [ -175.1176911 ]]\n"
     ]
    }
   ],
   "source": [
    "from cvxpy import *\n",
    "x = Variable(n)\n",
    "obj = quad_form(x, Q) + b*x\n",
    "constraints = [sum_entries(x) + sum_entries(Pren) == 0, \n",
    "                Pmin <= x, x <= Pmax]\n",
    "prob = Problem(Minimize(obj), constraints)\n",
    "prob.solve()\n",
    "print(prob.value)\n",
    "print(\"Schedule: \")\n",
    "print(x.value)\n",
    "print(\"Price: \",constraints[0].dual_value)\n",
    "print(\"Payments and revenues under uniform pricing scheme: \")\n",
    "print(x.value * constraints[0].dual_value)"
   ]
  }
 ],
 "metadata": {
  "kernelspec": {
   "display_name": "Python 3",
   "language": "python",
   "name": "python3"
  },
  "language_info": {
   "codemirror_mode": {
    "name": "ipython",
    "version": 3
   },
   "file_extension": ".py",
   "mimetype": "text/x-python",
   "name": "python",
   "nbconvert_exporter": "python",
   "pygments_lexer": "ipython3",
   "version": "3.6.3"
  }
 },
 "nbformat": 4,
 "nbformat_minor": 2
}
